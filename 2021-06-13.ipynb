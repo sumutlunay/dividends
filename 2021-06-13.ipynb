{
 "cells": [
  {
   "cell_type": "code",
   "execution_count": 1,
   "metadata": {},
   "outputs": [
    {
     "name": "stdout",
     "output_type": "stream",
     "text": [
      "IPyStata is loaded in batch mode.\n"
     ]
    }
   ],
   "source": [
    "import ipystata\n",
    "from ipystata.config import config_stata\n",
    "config_stata('/usr/local/bin/stata')"
   ]
  },
  {
   "cell_type": "markdown",
   "metadata": {},
   "source": [
    "ANNUAL"
   ]
  },
  {
   "cell_type": "raw",
   "metadata": {},
   "source": [
    "Within Privates"
   ]
  },
  {
   "cell_type": "code",
   "execution_count": 6,
   "metadata": {
    "tags": []
   },
   "outputs": [
    {
     "name": "stdout",
     "output_type": "stream",
     "text": [
      "\n",
      "  [1]              \"/home/kennesaw/Sunay/adofiles\"\n",
      "  [2]  (BASE)      \"/usr/local/sas/stata16/ado/base/\"\n",
      "  [3]  (SITE)      \"/usr/local/sas/ado/\"\n",
      "  [4]              \".\"\n",
      "  [5]  (PERSONAL)  \"~/ado/personal/\"\n",
      "  [6]  (PLUS)      \"~/ado/plus/\"\n",
      "  [7]  (OLDPLACE)  \"~/ado/\"\n",
      "(156 observations deleted)\n",
      "\n",
      "    Variable |        Obs        Mean    Std. Dev.       Min        Max\n",
      "-------------+---------------------------------------------------------\n",
      "    Mgmt_own |      1,139    .0580129    .0822621          0       .522\n",
      "\n",
      "    Variable |        Obs        Mean    Std. Dev.       Min        Max\n",
      "-------------+---------------------------------------------------------\n",
      "    Mgmt_own |        110    .3444527    .2229411       .025       .943\n",
      "\n",
      "    Variable |        Obs        Mean    Std. Dev.       Min        Max\n",
      "-------------+---------------------------------------------------------\n",
      "    Mgmt_own |        323    .9028536    .1410009         .5          1\n",
      "\n",
      "    Variable |        Obs        Mean    Std. Dev.       Min        Max\n",
      "-------------+---------------------------------------------------------\n",
      "    Mgmt_own |        149    .0712087    .1417876          0          1\n",
      "(31 observations deleted)\n",
      "(221 observations deleted)\n",
      "Unknown #commandUnknown #commandUnknown #command\n",
      "Linear regression, absorbing indicators         Number of obs     =        300\n",
      "Absorbed variable: fyear                        No. of categories =         33\n",
      "                                                F(   5,     60)   =       2.85\n",
      "                                                Prob > F          =     0.0224\n",
      "                                                R-squared         =     0.3359\n",
      "                                                Adj R-squared     =     0.2421\n",
      "                                                Root MSE          =     0.0170\n",
      "\n",
      "                                 (Std. Err. adjusted for 61 clusters in gvkey)\n",
      "------------------------------------------------------------------------------\n",
      "             |               Robust\n",
      "        div2 |      Coef.   Std. Err.      t    P>|t|     [95% Conf. Interval]\n",
      "-------------+----------------------------------------------------------------\n",
      "    Mgmt_own |    .006234    .007449     0.84   0.406    -.0086662    .0211343\n",
      "   salgrowth |  -.0158323   .0068687    -2.30   0.025    -.0295718   -.0020928\n",
      "       logat |   .0036031   .0013472     2.67   0.010     .0009082    .0062979\n",
      "          da |  -.0044417   .0048346    -0.92   0.362    -.0141124     .005229\n",
      "    opprofit |   .0647698   .0194771     3.33   0.002     .0258098    .1037298\n",
      "       _cons |  -.0221421   .0128796    -1.72   0.091    -.0479051    .0036208\n",
      "------------------------------------------------------------------------------\n",
      "\n",
      "Linear regression, absorbing indicators         Number of obs     =        302\n",
      "Absorbed variable: fyear                        No. of categories =         33\n",
      "                                                F(   5,     60)   =       0.40\n",
      "                                                Prob > F          =     0.8456\n",
      "                                                R-squared         =     0.1254\n",
      "                                                Adj R-squared     =     0.0028\n",
      "                                                Root MSE          =     0.0469\n",
      "\n",
      "                                 (Std. Err. adjusted for 61 clusters in gvkey)\n",
      "------------------------------------------------------------------------------\n",
      "             |               Robust\n",
      "    repurch2 |      Coef.   Std. Err.      t    P>|t|     [95% Conf. Interval]\n",
      "-------------+----------------------------------------------------------------\n",
      "    Mgmt_own |  -.0264107   .0218285    -1.21   0.231    -.0700743    .0172528\n",
      "   salgrowth |   -.042617   .0370606    -1.15   0.255    -.1167493    .0315154\n",
      "       logat |  -.0011521   .0014284    -0.81   0.423    -.0040094    .0017051\n",
      "          da |   .0135365   .0115258     1.17   0.245    -.0095185    .0365915\n",
      "    opprofit |   -.002799   .0200868    -0.14   0.890    -.0429787    .0373807\n",
      "       _cons |   .0261864   .0245417     1.07   0.290    -.0229042    .0752771\n",
      "------------------------------------------------------------------------------\n",
      "\n",
      "Linear regression, absorbing indicators         Number of obs     =        300\n",
      "Absorbed variable: fyear                        No. of categories =         33\n",
      "                                                F(   5,     60)   =       2.27\n",
      "                                                Prob > F          =     0.0592\n",
      "                                                R-squared         =     0.1380\n",
      "                                                Adj R-squared     =     0.0162\n",
      "                                                Root MSE          =     0.0557\n",
      "\n",
      "                                 (Std. Err. adjusted for 61 clusters in gvkey)\n",
      "------------------------------------------------------------------------------\n",
      "             |               Robust\n",
      "     payout2 |      Coef.   Std. Err.      t    P>|t|     [95% Conf. Interval]\n",
      "-------------+----------------------------------------------------------------\n",
      "    Mgmt_own |  -.0181405    .022498    -0.81   0.423    -.0631432    .0268622\n",
      "   salgrowth |  -.0555644   .0378168    -1.47   0.147    -.1312093    .0200806\n",
      "       logat |   .0022503    .002003     1.12   0.266    -.0017563    .0062568\n",
      "          da |   .0118704   .0153618     0.77   0.443    -.0188577    .0425985\n",
      "    opprofit |   .0651582   .0247037     2.64   0.011     .0157435    .1145729\n",
      "       _cons |   .0013934   .0262549     0.05   0.958    -.0511242     .053911\n",
      "------------------------------------------------------------------------------\n",
      "\n",
      ". \n"
     ]
    }
   ],
   "source": [
    "%%stata\n",
    "adopath++ \"/home/kennesaw/Sunay/adofiles\"\n",
    "\n",
    "use \"/home/kennesaw/Sunay/Dividends/withinprivates.dta\", clear\n",
    "\n",
    "drop if manag==1 & Mgmt_own<0.5\n",
    "sum Mgmt_own if pe1==1\n",
    "sum Mgmt_own if pe2==1\n",
    "sum Mgmt_own if manag==1\n",
    "sum Mgmt_own if employ==1\n",
    "\n",
    "\n",
    "gen group1 = manag+employ\n",
    "gen group2 = pe1+pe2\n",
    "\n",
    "drop if (group1+group2==0)\n",
    "drop if employ==1\n",
    "\n",
    "areg div2 c.manag##c.Mgmt_own salgrowth logat da opprofit, absorb(fyear) robust cluster(gvkey)\n",
    "areg repurch2 c.manag##c.Mgmt_own salgrowth logat da opprofit, absorb(fyear) robust cluster(gvkey)\n",
    "areg payout2 c.manag##c.Mgmt_own salgrowth logat da opprofit, absorb(fyear) robust cluster(gvkey)\n",
    "\n",
    "areg div2 Mgmt_own salgrowth logat da opprofit if group1==1, absorb(fyear) robust cluster(gvkey)\n",
    "areg repurch2 Mgmt_own salgrowth logat da opprofit if group1==1, absorb(fyear) robust cluster(gvkey)\n",
    "areg payout2 Mgmt_own salgrowth logat da opprofit if group1==1, absorb(fyear) robust cluster(gvkey)\n"
   ]
  },
  {
   "cell_type": "code",
   "execution_count": null,
   "metadata": {},
   "outputs": [],
   "source": []
  }
 ],
 "metadata": {
  "kernelspec": {
   "display_name": "forStata",
   "language": "python",
   "name": "forstata"
  },
  "language_info": {
   "codemirror_mode": {
    "name": "ipython",
    "version": 3
   },
   "file_extension": ".py",
   "mimetype": "text/x-python",
   "name": "python",
   "nbconvert_exporter": "python",
   "pygments_lexer": "ipython3",
   "version": "3.9.5"
  }
 },
 "nbformat": 4,
 "nbformat_minor": 4
}
