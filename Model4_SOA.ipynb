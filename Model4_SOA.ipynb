{
 "cells": [
  {
   "cell_type": "code",
   "execution_count": 1,
   "metadata": {},
   "outputs": [
    {
     "name": "stdout",
     "output_type": "stream",
     "text": [
      "IPyStata is loaded in batch mode.\n"
     ]
    }
   ],
   "source": [
    "import ipystata\n",
    "from ipystata.config import config_stata\n",
    "config_stata('/usr/local/bin/stata')"
   ]
  },
  {
   "cell_type": "markdown",
   "metadata": {},
   "source": [
    "*Private Firms"
   ]
  },
  {
   "cell_type": "code",
   "execution_count": 12,
   "metadata": {},
   "outputs": [
    {
     "name": "stdout",
     "output_type": "stream",
     "text": [
      "\n",
      "  [1]              \"/home/kennesaw/Sunay/adofiles\"\n",
      "  [2]  (BASE)      \"/usr/local/sas/stata16/ado/base/\"\n",
      "  [3]  (SITE)      \"/usr/local/sas/ado/\"\n",
      "  [4]              \".\"\n",
      "  [5]  (PERSONAL)  \"~/ado/personal/\"\n",
      "  [6]  (PLUS)      \"~/ado/plus/\"\n",
      "  [7]  (OLDPLACE)  \"~/ado/\"\n",
      "(note: dataset contains 0 observations)\n",
      "file /tmp/7938430.1.jupyterhub.q/St29713.000001 saved\n",
      "(18,082 missing values generated)\n",
      "(18,082 missing values generated)\n",
      "file /tmp/7938430.1.jupyterhub.q/St29713.000001 saved\n",
      "\n",
      "      command:  regress deldps lagdpsh eps if private==1\n",
      "           b1:  _b[lagdpsh]\n",
      "           b2:  _b[eps]\n",
      "            c:  _b[_cons]\n",
      "          soa:  (-1)*_b[lagdpsh]\n",
      "           tp:  (-1)*(_b[eps]/_b[lagdpsh])\n",
      "          obs:  e(N)\n",
      "        adjr2:  e(r2_a)\n",
      "           by:  gvkey\n",
      "\n",
      "(225 observations deleted)\n",
      "(0 observations deleted)\n",
      "(0 observations deleted)\n",
      "\n",
      "    Variable |        Obs        Mean    Std. Dev.       Min        Max\n",
      "-------------+---------------------------------------------------------\n",
      "         soa |        105    .2025688     .404451  -.0362438    1.13614\n",
      "          tp |         23   -.0389102    .1455243  -.6807048   1.51e-16\n",
      "       adjr2 |         23    .9332452    .1869642   .3395136          1\n",
      "          b1 |        105   -.2025688     .404451   -1.13614   .0362438\n",
      "          b2 |        105    -.000316    .0047011  -.0326103   .0246713\n",
      "-------------+---------------------------------------------------------\n",
      "           c |        105    .0129105    .1371837  -.0294093   1.404799\n"
     ]
    }
   ],
   "source": [
    "%%stata\n",
    "adopath++ \"/home/kennesaw/Sunay/adofiles\"\n",
    "\n",
    "clear\n",
    "tempfile all_results\n",
    "save `all_results', emptyok\n",
    "\n",
    "use \"/home/kennesaw/Sunay/Dividends/levelfull.dta\", clear\n",
    "\n",
    "bysort gvkey(fyear): gen lagdpsh = dvpsx_f[_n-1]\n",
    "gen deldps = dvpsx_f - lagdpsh\n",
    "\n",
    "# drop eps\n",
    "# rename epsalt eps\n",
    "\n",
    "winsor2 deldps lagdpsh eps, replace by(gvkey)\n",
    "\n",
    "append using `all_results'\n",
    "    save \"`all_results'\", replace\n",
    "statsby b1=_b[lagdpsh] b2=_b[eps] c=_b[_cons] soa=((-1)*_b[lagdpsh]) tp=((-1)*(_b[eps]/_b[lagdpsh])) obs=e(N) adjr2=e(r2_a), by(gvkey) nodots: reg deldps lagdpsh eps if private==1\n",
    "\n",
    "drop if b1==.\n",
    "drop if b2==.\n",
    "drop if c==.\n",
    "\n",
    "sum soa tp adjr2 b1 b2 c if obs>4"
   ]
  },
  {
   "cell_type": "raw",
   "metadata": {},
   "source": [
    "Alternative with DPS calculated at Compustat step"
   ]
  },
  {
   "cell_type": "code",
   "execution_count": 13,
   "metadata": {},
   "outputs": [
    {
     "name": "stdout",
     "output_type": "stream",
     "text": [
      "\n",
      "  [1]              \"/home/kennesaw/Sunay/adofiles\"\n",
      "  [2]  (BASE)      \"/usr/local/sas/stata16/ado/base/\"\n",
      "  [3]  (SITE)      \"/usr/local/sas/ado/\"\n",
      "  [4]              \".\"\n",
      "  [5]  (PERSONAL)  \"~/ado/personal/\"\n",
      "  [6]  (PLUS)      \"~/ado/plus/\"\n",
      "  [7]  (OLDPLACE)  \"~/ado/\"\n",
      "(note: dataset contains 0 observations)\n",
      "file /tmp/7938430.1.jupyterhub.q/St25643.000001 saved\n",
      "file /tmp/7938430.1.jupyterhub.q/St25643.000001 saved\n",
      "\n",
      "      command:  regress chgdps lagdps eps if private==1\n",
      "           b1:  _b[lagdps]\n",
      "           b2:  _b[eps]\n",
      "            c:  _b[_cons]\n",
      "          soa:  (-1)*_b[lagdps]\n",
      "           tp:  (-1)*(_b[eps]/_b[lagdps])\n",
      "          obs:  e(N)\n",
      "        adjr2:  e(r2_a)\n",
      "           by:  gvkey\n",
      "\n",
      "(172 observations deleted)\n",
      "(0 observations deleted)\n",
      "(0 observations deleted)\n",
      "\n",
      "    Variable |        Obs        Mean    Std. Dev.       Min        Max\n",
      "-------------+---------------------------------------------------------\n",
      "         soa |        116    -1.15481    15.29493  -163.3714   1.812104\n",
      "          tp |         60     .164539    1.855635   -7.40958   11.94529\n",
      "       adjr2 |         62    .5987296    .3714128  -.4760424          1\n",
      "          b1 |        116     1.15481    15.29493  -1.812104   163.3714\n",
      "          b2 |        116    .1122313    .6836954  -.7359848   6.926653\n",
      "-------------+---------------------------------------------------------\n",
      "           c |        116    2732.915    15973.04  -6235.171   160678.6\n"
     ]
    }
   ],
   "source": [
    "%%stata\n",
    "adopath++ \"/home/kennesaw/Sunay/adofiles\"\n",
    "\n",
    "clear\n",
    "tempfile all_results\n",
    "save `all_results', emptyok\n",
    "\n",
    "use \"/home/kennesaw/Sunay/Dividends/levelfull.dta\", clear\n",
    "\n",
    "# drop eps\n",
    "# rename epsalt eps\n",
    "\n",
    "winsor2 chgdps lagdps eps, replace by(gvkey)\n",
    "\n",
    "append using `all_results'\n",
    "    save \"`all_results'\", replace\n",
    "statsby b1=_b[lagdps] b2=_b[eps] c=_b[_cons] soa=((-1)*_b[lagdps]) tp=((-1)*(_b[eps]/_b[lagdps])) obs=e(N) adjr2=e(r2_a), by(gvkey) nodots: reg chgdps lagdps eps if private==1\n",
    "\n",
    "drop if b1==.\n",
    "drop if b2==.\n",
    "drop if c==.\n",
    "\n",
    "sum soa tp adjr2 b1 b2 c if obs>4"
   ]
  },
  {
   "cell_type": "raw",
   "metadata": {},
   "source": [
    "SOA model with Total Payouts"
   ]
  },
  {
   "cell_type": "code",
   "execution_count": 15,
   "metadata": {},
   "outputs": [
    {
     "name": "stdout",
     "output_type": "stream",
     "text": [
      "\n",
      "  [1]              \"/home/kennesaw/Sunay/adofiles\"\n",
      "  [2]  (BASE)      \"/usr/local/sas/stata16/ado/base/\"\n",
      "  [3]  (SITE)      \"/usr/local/sas/ado/\"\n",
      "  [4]              \".\"\n",
      "  [5]  (PERSONAL)  \"~/ado/personal/\"\n",
      "  [6]  (PLUS)      \"~/ado/plus/\"\n",
      "  [7]  (OLDPLACE)  \"~/ado/\"\n",
      "(note: dataset contains 0 observations)\n",
      "file /tmp/7938430.1.jupyterhub.q/St06431.000001 saved\n",
      "Unknown #commandUnknown #commandUnknown #commandfile /tmp/7938430.1.jupyterhub.q/St06431.000001 saved\n",
      "> =1\n",
      "\n",
      "      command:  regress chgpayoutps lagpayoutps eps if private==1\n",
      "           b1:  _b[lagpayoutps]\n",
      "           b2:  _b[eps]\n",
      "            c:  _b[_cons]\n",
      "          soa:  (-1)*_b[lagpayoutps]\n",
      "           tp:  (-1)*(_b[eps]/_b[lagpayoutps])\n",
      "          obs:  e(N)\n",
      "        adjr2:  e(r2_a)\n",
      "           by:  gvkey\n",
      "\n",
      "(172 observations deleted)\n",
      "(0 observations deleted)\n",
      "(0 observations deleted)\n",
      "\n",
      "    Variable |        Obs        Mean    Std. Dev.       Min        Max\n",
      "-------------+---------------------------------------------------------\n",
      "         soa |        116   -.2446644    73.70741  -409.0776   608.5225\n",
      "          tp |         96     770.835    10540.53  -25757.65   99741.38\n",
      "       adjr2 |         96    .5373295    .3394182  -.1627206          1\n",
      "          b1 |        116    .2446644    73.70741  -608.5225   409.0776\n",
      "          b2 |        116    697.6933    10554.74  -28798.19   109719.8\n",
      "-------------+---------------------------------------------------------\n",
      "           c |        116    2304.161    8245.522  -189.5873   59324.56\n"
     ]
    }
   ],
   "source": [
    "%%stata\n",
    "adopath++ \"/home/kennesaw/Sunay/adofiles\"\n",
    "\n",
    "clear\n",
    "tempfile all_results\n",
    "save `all_results', emptyok\n",
    "\n",
    "use \"/home/kennesaw/Sunay/Dividends/levelfull.dta\", clear\n",
    "\n",
    "# sum chgpayoutps lagpayoutps eps\n",
    "# drop eps\n",
    "# rename epsalt eps\n",
    "\n",
    "winsor2 chgpayoutps lagpayoutps eps, replace by(gvkey)\n",
    "\n",
    "append using `all_results'\n",
    "    save \"`all_results'\", replace\n",
    "statsby b1=_b[lagpayoutps] b2=_b[eps] c=_b[_cons] soa=((-1)*_b[lagpayoutps]) tp=((-1)*(_b[eps]/_b[lagpayoutps])) obs=e(N) adjr2=e(r2_a), by(gvkey) nodots: reg chgpayoutps lagpayoutps eps if private==1\n",
    "\n",
    "drop if b1==.\n",
    "drop if b2==.\n",
    "drop if c==.\n",
    "\n",
    "sum soa tp adjr2 b1 b2 c if obs>4"
   ]
  },
  {
   "cell_type": "markdown",
   "metadata": {},
   "source": [
    "No-constant version"
   ]
  },
  {
   "cell_type": "code",
   "execution_count": 15,
   "metadata": {},
   "outputs": [
    {
     "name": "stdout",
     "output_type": "stream",
     "text": [
      "\n",
      "  [1]              \"/home/kennesaw/Sunay/adofiles\"\n",
      "  [2]  (BASE)      \"/usr/local/sas/stata16/ado/base/\"\n",
      "  [3]  (SITE)      \"/usr/local/sas/ado/\"\n",
      "  [4]              \".\"\n",
      "  [5]  (PERSONAL)  \"~/ado/personal/\"\n",
      "  [6]  (PLUS)      \"~/ado/plus/\"\n",
      "  [7]  (OLDPLACE)  \"~/ado/\"\n",
      "(note: dataset contains 0 observations)\n",
      "file /tmp/7434594.1.jupyterhub.q/St20052.000001 saved\n",
      "(18,081 missing values generated)\n",
      "(18,081 missing values generated)\n",
      "file /tmp/7434594.1.jupyterhub.q/St20052.000001 saved\n",
      "\n",
      "      command:  regress deldps lagdpsh eps if private==1, nocons\n",
      "           b1:  _b[lagdpsh]\n",
      "           b2:  _b[eps]\n",
      "          soa:  (-1)*_b[lagdpsh]\n",
      "           tp:  (-1)*(_b[eps]/_b[lagdpsh])\n",
      "          obs:  e(N)\n",
      "        adjr2:  e(r2_a)\n",
      "           by:  gvkey\n",
      "\n",
      "(159 observations deleted)\n",
      "(0 observations deleted)\n",
      "\n",
      "    Variable |        Obs        Mean    Std. Dev.       Min        Max\n",
      "-------------+---------------------------------------------------------\n",
      "         soa |        113    .1942088    .3979965  -.0544103          1\n",
      "          tp |         23   -.0242507     .080757  -.3058229          0\n",
      "       adjr2 |         24    .9517564    .1645089   .3577992          1\n",
      "          b1 |        113   -.1942088    .3979965         -1   .0544103\n",
      "          b2 |        113    .0035181    .0712103  -.3058229   .6896552\n"
     ]
    }
   ],
   "source": [
    "%%stata\n",
    "adopath++ \"/home/kennesaw/Sunay/adofiles\"\n",
    "\n",
    "clear\n",
    "tempfile all_results\n",
    "save `all_results', emptyok\n",
    "\n",
    "use \"/home/kennesaw/Sunay/Dividends/levelfull.dta\", clear\n",
    "\n",
    "bysort gvkey(fyear): gen lagdpsh = dvpsx_f[_n-1]\n",
    "gen deldps = dvpsx_f - lagdpsh\n",
    "\n",
    "winsor2 deldps lagdpsh eps, replace by(gvkey)\n",
    "\n",
    "append using `all_results'\n",
    "    save \"`all_results'\", replace\n",
    "statsby b1=_b[lagdpsh] b2=_b[eps] soa=((-1)*_b[lagdpsh]) tp=((-1)*(_b[eps]/_b[lagdpsh])) obs=e(N) adjr2=e(r2_a), by(gvkey) nodots: reg deldps lagdpsh eps if private==1, nocons\n",
    "\n",
    "drop if b1==.\n",
    "drop if b2==.\n",
    "\n",
    "sum soa tp adjr2 b1 b2 if obs>5"
   ]
  },
  {
   "cell_type": "markdown",
   "metadata": {},
   "source": [
    "*Public Firms"
   ]
  },
  {
   "cell_type": "code",
   "execution_count": 19,
   "metadata": {},
   "outputs": [
    {
     "name": "stdout",
     "output_type": "stream",
     "text": [
      "\n",
      "  [1]              \"/home/kennesaw/Sunay/adofiles\"\n",
      "  [2]  (BASE)      \"/usr/local/sas/stata16/ado/base/\"\n",
      "  [3]  (SITE)      \"/usr/local/sas/ado/\"\n",
      "  [4]              \".\"\n",
      "  [5]  (PERSONAL)  \"~/ado/personal/\"\n",
      "  [6]  (PLUS)      \"~/ado/plus/\"\n",
      "  [7]  (OLDPLACE)  \"~/ado/\"\n",
      "(note: dataset contains 0 observations)\n",
      "file /tmp/7434594.1.jupyterhub.q/St24249.000001 saved\n",
      "(18,081 missing values generated)\n",
      "(18,081 missing values generated)\n",
      "file /tmp/7434594.1.jupyterhub.q/St24249.000001 saved\n",
      "\n",
      "      command:  regress deldps lagdpsh eps if private==0\n",
      "           b1:  _b[lagdpsh]\n",
      "           b2:  _b[eps]\n",
      "            c:  _b[_cons]\n",
      "          soa:  (-1)*_b[lagdpsh]\n",
      "           tp:  (-1)*(_b[eps]/_b[lagdpsh])\n",
      "          obs:  e(N)\n",
      "        adjr2:  e(r2_a)\n",
      "           by:  gvkey\n",
      "\n",
      "(3,737 observations deleted)\n",
      "(0 observations deleted)\n",
      "(0 observations deleted)\n",
      "\n",
      "    Variable |        Obs        Mean    Std. Dev.       Min        Max\n",
      "-------------+---------------------------------------------------------\n",
      "         soa |      9,032    .1816945    .5949697  -31.01858   5.480703\n",
      "          tp |      3,832      .92529    48.27472   -139.399   2979.221\n",
      "       adjr2 |      3,948    .2971302    .2864846  -.6386648          1\n",
      "          b1 |      9,032   -.1816945    .5949697  -5.480703   31.01858\n",
      "          b2 |      9,032    .0224987    .3177024  -14.27227   6.605874\n",
      "-------------+---------------------------------------------------------\n",
      "           c |      9,032    .0810068    .9296836  -52.72948   43.29972\n"
     ]
    }
   ],
   "source": [
    "%%stata\n",
    "adopath++ \"/home/kennesaw/Sunay/adofiles\"\n",
    "\n",
    "clear\n",
    "tempfile all_results\n",
    "save `all_results', emptyok\n",
    "\n",
    "use \"/home/kennesaw/Sunay/Dividends/levelfull.dta\", clear\n",
    "\n",
    "bysort gvkey(fyear): gen lagdpsh = dvpsx_f[_n-1]\n",
    "gen deldps = dvpsx_f - lagdpsh\n",
    "\n",
    "winsor2 deldps lagdpsh eps, replace by(gvkey)\n",
    "\n",
    "append using `all_results'\n",
    "    save \"`all_results'\", replace\n",
    "statsby b1=_b[lagdpsh] b2=_b[eps] c=_b[_cons] soa=((-1)*_b[lagdpsh]) tp=((-1)*(_b[eps]/_b[lagdpsh])) obs=e(N) adjr2=e(r2_a), by(gvkey) nodots: reg deldps lagdpsh eps if private==0\n",
    "\n",
    "drop if b1==.\n",
    "drop if b2==.\n",
    "drop if c==.\n",
    "\n",
    "sum soa tp adjr2 b1 b2 c if obs>5"
   ]
  },
  {
   "cell_type": "markdown",
   "metadata": {},
   "source": [
    "No-constant version"
   ]
  },
  {
   "cell_type": "code",
   "execution_count": 18,
   "metadata": {},
   "outputs": [
    {
     "name": "stdout",
     "output_type": "stream",
     "text": [
      "\n",
      "  [1]              \"/home/kennesaw/Sunay/adofiles\"\n",
      "  [2]  (BASE)      \"/usr/local/sas/stata16/ado/base/\"\n",
      "  [3]  (SITE)      \"/usr/local/sas/ado/\"\n",
      "  [4]              \".\"\n",
      "  [5]  (PERSONAL)  \"~/ado/personal/\"\n",
      "  [6]  (PLUS)      \"~/ado/plus/\"\n",
      "  [7]  (OLDPLACE)  \"~/ado/\"\n",
      "(note: dataset contains 0 observations)\n",
      "file /tmp/7434594.1.jupyterhub.q/St23388.000001 saved\n",
      "(18,081 missing values generated)\n",
      "(18,081 missing values generated)\n",
      "file /tmp/7434594.1.jupyterhub.q/St23388.000001 saved\n",
      "\n",
      "      command:  regress deldps lagdpsh eps if private==0, nocons\n",
      "           b1:  _b[lagdpsh]\n",
      "           b2:  _b[eps]\n",
      "          soa:  (-1)*_b[lagdpsh]\n",
      "           tp:  (-1)*(_b[eps]/_b[lagdpsh])\n",
      "          obs:  e(N)\n",
      "        adjr2:  e(r2_a)\n",
      "           by:  gvkey\n",
      "\n",
      "(3,737 observations deleted)\n",
      "(0 observations deleted)\n",
      "\n",
      "    Variable |        Obs        Mean    Std. Dev.       Min        Max\n",
      "-------------+---------------------------------------------------------\n",
      "         soa |      9,032     .134879    .4204738  -17.51317   2.843161\n",
      "          tp |      3,849    1759.435    109144.3  -137.1063    6771345\n",
      "       adjr2 |      3,960    .2685211    .2715371  -.4429173          1\n",
      "          b1 |      9,032    -.134879    .4204738  -2.843161   17.51317\n",
      "          b2 |      9,032    .0360554    .2088691  -8.379145   6.363636\n"
     ]
    }
   ],
   "source": [
    "%%stata\n",
    "adopath++ \"/home/kennesaw/Sunay/adofiles\"\n",
    "\n",
    "clear\n",
    "tempfile all_results\n",
    "save `all_results', emptyok\n",
    "\n",
    "use \"/home/kennesaw/Sunay/Dividends/levelfull.dta\", clear\n",
    "\n",
    "bysort gvkey(fyear): gen lagdpsh = dvpsx_f[_n-1]\n",
    "gen deldps = dvpsx_f - lagdpsh\n",
    "\n",
    "winsor2 deldps lagdpsh eps, replace by(gvkey)\n",
    "\n",
    "append using `all_results'\n",
    "    save \"`all_results'\", replace\n",
    "statsby b1=_b[lagdpsh] b2=_b[eps] soa=((-1)*_b[lagdpsh]) tp=((-1)*(_b[eps]/_b[lagdpsh])) obs=e(N) adjr2=e(r2_a), by(gvkey) nodots: reg deldps lagdpsh eps if private==0, nocons\n",
    "\n",
    "drop if b1==.\n",
    "drop if b2==.\n",
    "\n",
    "sum soa tp adjr2 b1 b2 if obs>5"
   ]
  },
  {
   "cell_type": "code",
   "execution_count": null,
   "metadata": {},
   "outputs": [],
   "source": []
  }
 ],
 "metadata": {
  "kernelspec": {
   "display_name": "forStata",
   "language": "python",
   "name": "forstata"
  },
  "language_info": {
   "codemirror_mode": {
    "name": "ipython",
    "version": 3
   },
   "file_extension": ".py",
   "mimetype": "text/x-python",
   "name": "python",
   "nbconvert_exporter": "python",
   "pygments_lexer": "ipython3",
   "version": "3.9.5"
  }
 },
 "nbformat": 4,
 "nbformat_minor": 4
}
